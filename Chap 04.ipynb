{
 "cells": [
  {
   "cell_type": "markdown",
   "metadata": {},
   "source": [
    "# Programming Fundamental Chapter 04"
   ]
  },
  {
   "cell_type": "markdown",
   "metadata": {},
   "source": [
    "# Problem 4.12"
   ]
  },
  {
   "cell_type": "code",
   "execution_count": 12,
   "metadata": {},
   "outputs": [
    {
     "name": "stdout",
     "output_type": "stream",
     "text": [
      " bcd \n",
      " abc \n",
      " defghijklmnoprstuvwx \n",
      " wxy \n",
      " wxyz\n"
     ]
    }
   ],
   "source": [
    "s = (\"abcdefghijklmnoprstuvwxyz\")\n",
    "a = s[1:4]\n",
    "b = s[0:3]\n",
    "c = s[3:23]\n",
    "d = s[21:24]\n",
    "e = s[21:25]\n",
    "print('',a, '\\n', b, '\\n', c, '\\n', d, '\\n', e)"
   ]
  },
  {
   "cell_type": "markdown",
   "metadata": {},
   "source": [
    "# Problem 4.13"
   ]
  },
  {
   "cell_type": "code",
   "execution_count": 13,
   "metadata": {},
   "outputs": [
    {
     "name": "stdout",
     "output_type": "stream",
     "text": [
      " bc \n",
      " abcdefghijklmn \n",
      " oprstuvwxyz \n",
      " bcdefghijklmnoprstuvwxy\n"
     ]
    }
   ],
   "source": [
    "s = (\"abcdefghijklmnoprstuvwxyz\")\n",
    "a =s[1:3]\n",
    "b = s[:14]\n",
    "c = s[14:25]\n",
    "d = s[1:24]\n",
    "print('', a, '\\n', b, '\\n', c, '\\n', d)"
   ]
  },
  {
   "cell_type": "markdown",
   "metadata": {},
   "source": [
    "# Problem 4.15"
   ]
  },
  {
   "cell_type": "code",
   "execution_count": 22,
   "metadata": {},
   "outputs": [
    {
     "name": "stdout",
     "output_type": "stream",
     "text": [
      "10 20 30 40 50 60 \n",
      "10,20,30,40,50,60,\n",
      "10&20&30&40&50&60&\n",
      "10-20-30-40-50-60-\n"
     ]
    }
   ],
   "source": [
    "s = ['10', '20', '30', '40', '50', '60']\n",
    "for e in \" ,&-\":\n",
    "    for h in s:\n",
    "        print(h+str(e), end = '')\n",
    "    print()"
   ]
  },
  {
   "cell_type": "markdown",
   "metadata": {},
   "source": [
    "# Problem 4.16"
   ]
  },
  {
   "cell_type": "code",
   "execution_count": 15,
   "metadata": {},
   "outputs": [
    {
     "name": "stdout",
     "output_type": "stream",
     "text": [
      "Enter first word :  bass\n",
      "Enter second word :  salmon\n",
      "Enter third word :  whitefish\n",
      "True\n"
     ]
    }
   ],
   "source": [
    "def dictionary(a, b, c):\n",
    "    d = {'a': 'bass', 'b': 'salmon', 'c': 'whitefish'}\n",
    "    print('Enter first word : ',a)\n",
    "    print('Enter second word : ',b)\n",
    "    print('Enter third word : ',c)\n",
    "    if (a and b and c) in d.values():\n",
    "        print(\"True\")\n",
    "    else:\n",
    "        print(\"False\")\n",
    "dictionary('bass', 'salmon' , 'whitefish')"
   ]
  },
  {
   "cell_type": "markdown",
   "metadata": {},
   "source": [
    "# Problem 4.17"
   ]
  },
  {
   "cell_type": "code",
   "execution_count": 16,
   "metadata": {},
   "outputs": [
    {
     "name": "stdout",
     "output_type": "stream",
     "text": [
      " 48 \n",
      " 2 \n",
      " The xxxxxx of this message is that it is xxxxxx.\n"
     ]
    }
   ],
   "source": [
    "message = ('The secret of this message is that it is secret.')\n",
    "l = len(message)\n",
    "c = message.count('secret')\n",
    "r = message.replace('secret', 'xxxxxx')\n",
    "print('', l,'\\n', c, '\\n', r)"
   ]
  },
  {
   "cell_type": "markdown",
   "metadata": {},
   "source": [
    "# Problem 4.18"
   ]
  },
  {
   "cell_type": "code",
   "execution_count": 17,
   "metadata": {},
   "outputs": [
    {
     "name": "stdout",
     "output_type": "stream",
     "text": [
      " It was the best of times, it was the worst of times it\n",
      "was the age of wisdom, it was the age of foolishness it was the\n",
      "epoch of belief, it was the epoch of incredulity it was ... \n",
      "\n",
      " It was the best of times it was the worst of times it\n",
      "was the age of wisdom it was the age of foolishness it was the\n",
      "epoch of belief it was the epoch of incredulity it was ... \n"
     ]
    }
   ],
   "source": [
    "s = '''It was the best of times, it was the worst of times; it\n",
    "was the age of wisdom, it was the age of foolishness; it was the\n",
    "epoch of belief, it was the epoch of incredulity; it was ... '''\n",
    "newS1 = s.replace(';','')\n",
    "print('',newS1)\n",
    "newS2 = newS1.replace(',','')\n",
    "print('\\n',newS2)"
   ]
  },
  {
   "cell_type": "markdown",
   "metadata": {},
   "source": [
    "# Problem 4.19"
   ]
  },
  {
   "cell_type": "code",
   "execution_count": 18,
   "metadata": {},
   "outputs": [
    {
     "name": "stdout",
     "output_type": "stream",
     "text": [
      "Sigel, Marlena Mae\n",
      "Sigel, Marlena M.\n",
      "Marlena M. Sigel\n",
      "M. M. Sigel\n",
      "Sigel, M.\n"
     ]
    }
   ],
   "source": [
    "first = 'Marlena'\n",
    "last = 'Sigel'\n",
    "middle = 'Mae'\n",
    "print('{}, {} {}'.format(last, first, middle))\n",
    "print('{}, {} {}.'.format(last, first, middle[0]))\n",
    "print('{} {}. {}'.format(first, middle[0], last))\n",
    "print('{}. {}. {}'.format(first[0], middle[0], last))\n",
    "print('{}, {}.'.format(last, first[0]))"
   ]
  },
  {
   "cell_type": "markdown",
   "metadata": {},
   "source": [
    "# Problem 4.20"
   ]
  },
  {
   "cell_type": "code",
   "execution_count": 19,
   "metadata": {},
   "outputs": [
    {
     "name": "stdout",
     "output_type": "stream",
     "text": [
      " ------------------\n",
      " From: tim@abc.com \n",
      " To: tom@xyz.org \n",
      " Subject: Hello!\n",
      " ------------------\n"
     ]
    }
   ],
   "source": [
    "sender = 'tim@abc.com'\n",
    "recipient = 'tom@xyz.org'\n",
    "subject = 'Hello!'\n",
    "print(' ------------------')\n",
    "print(' From: {} \\n To: {} \\n Subject: {}'.format(sender, recipient, subject))\n",
    "print(' ------------------')"
   ]
  },
  {
   "cell_type": "markdown",
   "metadata": {},
   "source": [
    "# Problem 4.21"
   ]
  },
  {
   "cell_type": "code",
   "execution_count": 14,
   "metadata": {},
   "outputs": [
    {
     "name": "stdout",
     "output_type": "stream",
     "text": [
      "3.1\n",
      "2.7e+00\n",
      "\n",
      "\n",
      "3.14\n",
      "2.72e+00\n",
      "\n",
      "\n",
      "3.141593\n",
      "2.718282e+00\n",
      "\n",
      "\n",
      "3.141593\n",
      "2.718282e+00\n"
     ]
    }
   ],
   "source": [
    "from math import pi, e\n",
    "print('{:1.1f}'.format(pi))\n",
    "print('{:1.1e}'.format(e))\n",
    "print('\\n')\n",
    "print('{:1.2f}'.format(pi))\n",
    "print('{:1.2e}'.format(e))\n",
    "print('\\n')\n",
    "print('{:1.6f}'.format(pi))\n",
    "print('{:1.6e}'.format(e))\n",
    "print('\\n')\n",
    "print('{:1.6f}'.format(pi))\n",
    "print('{:1.6e}'.format(e))"
   ]
  },
  {
   "cell_type": "markdown",
   "metadata": {},
   "source": [
    "# Problem 4.22"
   ]
  },
  {
   "cell_type": "code",
   "execution_count": 24,
   "metadata": {},
   "outputs": [
    {
     "name": "stdout",
     "output_type": "stream",
     "text": [
      "dec\n"
     ]
    }
   ],
   "source": [
    "months = {'1':'jan', '2':'feb', '3':'mar', '4':'apr', '5':'may', '6':'jun', '7':'jul', '8':'aug', '9':'sep', '10':'oct', '11':'nov', '12':'dec'}\n",
    "print(months['12'])"
   ]
  },
  {
   "cell_type": "code",
   "execution_count": 25,
   "metadata": {},
   "outputs": [
    {
     "data": {
      "text/plain": [
       "'Feb'"
      ]
     },
     "execution_count": 25,
     "metadata": {},
     "output_type": "execute_result"
    }
   ],
   "source": [
    "# Another methood\n",
    "def month(x):\n",
    "    m = 'JanFebMarMayJunJulAugSepOctNovDec'\n",
    "    x = m [(x-1)*3:x*3]\n",
    "    return x\n",
    "month(2)"
   ]
  },
  {
   "cell_type": "markdown",
   "metadata": {},
   "source": [
    "# Problem 4.23"
   ]
  },
  {
   "cell_type": "code",
   "execution_count": 26,
   "metadata": {},
   "outputs": [
    {
     "name": "stdout",
     "output_type": "stream",
     "text": [
      "Enter a sentence: A sample sentence\n",
      "4.0\n"
     ]
    }
   ],
   "source": [
    "def average():\n",
    "    a = 3\n",
    "    b = 5\n",
    "    avg = (a + b)/ 2\n",
    "    print('Enter a sentence: A sample sentence')\n",
    "    print(avg)\n",
    "average()  "
   ]
  },
  {
   "cell_type": "markdown",
   "metadata": {},
   "source": [
    "# Problem 4.24"
   ]
  },
  {
   "cell_type": "code",
   "execution_count": 27,
   "metadata": {},
   "outputs": [
    {
     "name": "stdout",
     "output_type": "stream",
     "text": [
      " How do you spell winner? \n",
      " I know, I know! \n",
      " H U S K I E S ! \n",
      " And thats how you spell winner! \n",
      " Go Huskies!\n"
     ]
    }
   ],
   "source": [
    "def cheer(Huskies):\n",
    "    a = 'How do you spell winner?'\n",
    "    b = 'I know, I know!'\n",
    "    c = 'H U S K I E S !'\n",
    "    d = 'And thats how you spell winner!'\n",
    "    e = 'Go Huskies!'\n",
    "    print(' {} \\n {} \\n {} \\n {} \\n {}'.format(a, b, c, d, e))\n",
    "cheer('Huskies')"
   ]
  },
  {
   "cell_type": "markdown",
   "metadata": {},
   "source": [
    "# Problem 4.25"
   ]
  },
  {
   "cell_type": "code",
   "execution_count": 28,
   "metadata": {},
   "outputs": [
    {
     "name": "stdout",
     "output_type": "stream",
     "text": [
      "a, e, i, o, u appears 1 3 e 1 1\n"
     ]
    }
   ],
   "source": [
    "def vowelCount(x):\n",
    "    vow = 'AEIOUaeiou'\n",
    "    a = 0\n",
    "    e = 0\n",
    "    i = 0\n",
    "    o = 0\n",
    "    u = 0\n",
    "    for i in x:\n",
    "        if i in vow:\n",
    "            if i == 'a' or i == \"A\":\n",
    "                a += 1\n",
    "            if i == 'e' or i == \"E\":\n",
    "                e += 1\n",
    "            if i == 'i' or i == \"I\":\n",
    "                y += 1\n",
    "            if i == 'o' or i == \"O\":\n",
    "                o += 1\n",
    "            if i == 'u' or i == \"U\":\n",
    "                u += 1\n",
    "    print('a, e, i, o, u appears {} {} {} {} {}'.format(a,e,i,o,u))\n",
    "vowelCount(\"Le Tour de France\")"
   ]
  },
  {
   "cell_type": "code",
   "execution_count": 29,
   "metadata": {},
   "outputs": [
    {
     "name": "stdout",
     "output_type": "stream",
     "text": [
      "Enter your string:Bilal\n",
      "Number of vowels are: 2\n"
     ]
    }
   ],
   "source": [
    "# Another way\n",
    "string=input(\"Enter your string:\")\n",
    "vowels=0\n",
    "for i in string:\n",
    "    if(i=='a' or i=='e' or i=='i' or i=='o' or i=='u' or i=='A' or i=='E' or i=='I' or i=='O' or i=='U'):\n",
    "        vowels=vowels+1\n",
    "print(\"Number of vowels are:\", vowels)"
   ]
  },
  {
   "cell_type": "markdown",
   "metadata": {},
   "source": [
    "# Problem 4.26"
   ]
  },
  {
   "cell_type": "code",
   "execution_count": 45,
   "metadata": {},
   "outputs": [
    {
     "data": {
      "text/plain": [
       "'I will tell you my xxxxx. But first, I have to explain\\nwhy it is a xxxxx'"
      ]
     },
     "execution_count": 45,
     "metadata": {},
     "output_type": "execute_result"
    }
   ],
   "source": [
    "def crypto(x):\n",
    "    infile = open(x)\n",
    "    a = infile.read()\n",
    "    r = a.replace('secret', 'xxxxx')\n",
    "    infile.close()\n",
    "    return r\n",
    "crypto('secret1.txt')"
   ]
  },
  {
   "cell_type": "markdown",
   "metadata": {},
   "source": [
    "# Problem 4.27"
   ]
  },
  {
   "cell_type": "code",
   "execution_count": 9,
   "metadata": {},
   "outputs": [],
   "source": [
    "def fcopy(file1, file2):\n",
    "    infile1 = open(file1, 'r')\n",
    "    text = infile1.read()\n",
    "    infile1.close()\n",
    "    \n",
    "    outfile = open(file2, 'w')\n",
    "    outfile.write(text)\n",
    "    outfile.close()\n",
    "\n",
    "fcopy('4.27_1.txt', '4.27_3.txt')"
   ]
  },
  {
   "cell_type": "markdown",
   "metadata": {},
   "source": [
    "# Problem 4.28"
   ]
  },
  {
   "cell_type": "code",
   "execution_count": null,
   "metadata": {},
   "outputs": [],
   "source": [
    "def link(filename):\n",
    "    infile = open(filename)\n",
    "    text = infile.read()\n",
    "    infile.close()\n",
    "    return text.count(\"\")\n",
    "link()"
   ]
  },
  {
   "cell_type": "markdown",
   "metadata": {},
   "source": [
    "# Problem 4.29"
   ]
  },
  {
   "cell_type": "code",
   "execution_count": 18,
   "metadata": {},
   "outputs": [
    {
     "name": "stdout",
     "output_type": "stream",
     "text": [
      "No of Lines:  3\n",
      "No of Words:  72\n",
      "No of Characters:  70\n"
     ]
    }
   ],
   "source": [
    "def stats(text_file):\n",
    "    infile = open(text_file, 'r')\n",
    "    a = infile.read()\n",
    "    lines = a.count(\"\\n\") + 1\n",
    "    words = len(a.replace(\"\\n\",\" \"))\n",
    "    characters = len(a) - lines + 1\n",
    "    print(\"No of Lines: \", lines)\n",
    "    print(\"No of Words: \", words)\n",
    "    print(\"No of Characters: \", characters)\n",
    "stats('4.29.txt')"
   ]
  },
  {
   "cell_type": "markdown",
   "metadata": {},
   "source": [
    "# Problem 4.30"
   ]
  },
  {
   "cell_type": "code",
   "execution_count": 41,
   "metadata": {},
   "outputs": [
    {
     "name": "stdout",
     "output_type": "stream",
     "text": [
      "6 students got A.\n",
      "2 students got A.\n",
      "3 students got A.\n",
      "6 students got A.\n",
      "1 students got A.\n",
      "2 students got A.\n",
      "1 students got A.\n",
      "4 students got A.\n"
     ]
    }
   ],
   "source": [
    "def distribution(file):\n",
    "    infile = open(file, 'r')\n",
    "    text = infile.read()\n",
    "    print(text.count(\"A\"), \"students got A.\")\n",
    "    print(text.count(\"A-\"), \"students got A-.\")\n",
    "    print(text.count(\"B+\"), \"students got B+.\")\n",
    "    print(text.count(\"B\"), \"students got B.\")\n",
    "    print(text.count(\"B-\"), \"students got B-.\")\n",
    "    print(text.count(\"C\"), \"students got C+.\")\n",
    "    print(text.count(\"C-\"), \"students got C.\")\n",
    "    print(text.count(\"F\"), \"students got F.\")\n",
    "distribution(\"4.30.txt\")"
   ]
  },
  {
   "cell_type": "markdown",
   "metadata": {},
   "source": [
    "# Problem 4.31"
   ]
  },
  {
   "cell_type": "code",
   "execution_count": 44,
   "metadata": {},
   "outputs": [
    {
     "data": {
      "text/plain": [
       "True"
      ]
     },
     "execution_count": 44,
     "metadata": {},
     "output_type": "execute_result"
    }
   ],
   "source": [
    "def duplicate(file):\n",
    "    infile = open(file)\n",
    "    text = infile.read()\n",
    "    infile.close()\n",
    "    x = text.split()\n",
    "    y = set(x)\n",
    "    if len(y) == len(x):\n",
    "        return False\n",
    "    else:\n",
    "        return True\n",
    "duplicate(\"4.31.txt\")"
   ]
  },
  {
   "cell_type": "markdown",
   "metadata": {},
   "source": [
    "# Problem 4.32"
   ]
  },
  {
   "cell_type": "code",
   "execution_count": 1,
   "metadata": {},
   "outputs": [],
   "source": [
    "def censor(filename):\n",
    "    infile = open(filename, 'r')\n",
    "    text = infile.read()\n",
    "    word = text.split()\n",
    "    infile.close()\n",
    "    for i in word:\n",
    "        if (len(i) == 5):\n",
    "            x = text.replace(i, \"*****\")\n",
    "    outfile = open(\"cencored.txt\", 'w')\n",
    "    outfile.write(x)\n",
    "    outfile.close\n",
    "censor(\"4.32.txt\")"
   ]
  }
 ],
 "metadata": {
  "kernelspec": {
   "display_name": "Python 3",
   "language": "python",
   "name": "python3"
  },
  "language_info": {
   "codemirror_mode": {
    "name": "ipython",
    "version": 3
   },
   "file_extension": ".py",
   "mimetype": "text/x-python",
   "name": "python",
   "nbconvert_exporter": "python",
   "pygments_lexer": "ipython3",
   "version": "3.7.3"
  }
 },
 "nbformat": 4,
 "nbformat_minor": 2
}
